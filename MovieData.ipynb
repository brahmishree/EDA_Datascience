{
 "cells": [
  {
   "cell_type": "markdown",
   "metadata": {},
   "source": [
    "\n",
    "## Movie Data Set\n",
    "\n",
    "### <b>UseCase:<b> To clean and analyze the movie_dataset using EDA to \n",
    "    - Gain Insights \n",
    "    - Determining relationships in Data\n",
    "    - Checking of assumptions\n",
    "    - Represent the analysis using plots\n",
    "    "
   ]
  },
  {
   "cell_type": "markdown",
   "metadata": {},
   "source": [
    "### The prime analysis include the below questions/RelationShips:<br>\n",
    "1) What is the relation between Year and Movies Produced/Registered?<br>\n",
    "2) Is there any relationship between duration and rating?<br>\n",
    "3) Which Year produced most hit movies (liked by audience)<br>\n",
    "4) Which Year generated maximum revenue?<br>\n",
    "5) What is the relationship between Votes and Year?<br>\n",
    "6) Which category of movies makes most of the good ratings?<br>\n",
    "7) Which genre movies were most voted category?<br>\n",
    "8) Which genre generated highest revenue?<br>\n",
    "9) How director plays a role in revenues and votes?<br>\n",
    "10) Who are the top performing actors?<br>\n"
   ]
  },
  {
   "cell_type": "code",
   "execution_count": null,
   "metadata": {},
   "outputs": [],
   "source": [
    "import numpy as np                                                 # Implemennts milti-dimensional array and matrices\n",
    "import pandas as pd                                                # For data manipulation and analysis\n",
    "import pandas_profiling\n",
    "import matplotlib.pyplot as plt                                    # Plotting library for Python programming language and it's numerical mathematics extension NumPy\n",
    "import seaborn as sns                                              # Provides a high level interface for drawing attractive and informative statistical graphics\n",
    "%matplotlib inline\n",
    "sns.set()"
   ]
  },
  {
   "cell_type": "code",
   "execution_count": null,
   "metadata": {},
   "outputs": [],
   "source": [
    "movie_data = pd.read_csv(\"https://raw.githubusercontent.com/insaid2018/Term-1/master/Data/Projects/1000%20movies%20data.csv\")"
   ]
  },
  {
   "cell_type": "code",
   "execution_count": null,
   "metadata": {},
   "outputs": [],
   "source": [
    "#movie_data=pd.read_csv(\"C:/Users/brahmishreem/Desktop/1000_movies_data.csv\")"
   ]
  },
  {
   "cell_type": "code",
   "execution_count": null,
   "metadata": {},
   "outputs": [],
   "source": [
    "movie_data.head()"
   ]
  },
  {
   "cell_type": "code",
   "execution_count": null,
   "metadata": {},
   "outputs": [],
   "source": [
    "movie_data.shape"
   ]
  },
  {
   "cell_type": "code",
   "execution_count": null,
   "metadata": {},
   "outputs": [],
   "source": [
    "movie_data.info()"
   ]
  },
  {
   "cell_type": "code",
   "execution_count": null,
   "metadata": {},
   "outputs": [],
   "source": [
    "movie_data.describe()"
   ]
  },
  {
   "cell_type": "code",
   "execution_count": null,
   "metadata": {},
   "outputs": [],
   "source": [
    "movie_data.isnull().sum()"
   ]
  },
  {
   "cell_type": "markdown",
   "metadata": {},
   "source": [
    "### 1. Data Pre-Profiling"
   ]
  },
  {
   "cell_type": "code",
   "execution_count": null,
   "metadata": {},
   "outputs": [],
   "source": [
    "movieprofile = pandas_profiling.ProfileReport(movie_data)\n",
    "movieprofile.to_file(outputfile=\"movie_before_preprocessing.html\")"
   ]
  },
  {
   "cell_type": "markdown",
   "metadata": {},
   "source": [
    "### 2.Data Preprocessing\n"
   ]
  },
  {
   "cell_type": "code",
   "execution_count": null,
   "metadata": {},
   "outputs": [],
   "source": [
    "movie_data.Metascore= movie_data.Metascore.fillna(movie_data['Metascore'].median()) #as Metascore data is -ve skewed"
   ]
  },
  {
   "cell_type": "code",
   "execution_count": null,
   "metadata": {},
   "outputs": [],
   "source": [
    "movie_data['Metascore'].median()"
   ]
  },
  {
   "cell_type": "code",
   "execution_count": null,
   "metadata": {},
   "outputs": [],
   "source": [
    "movie_data.info()"
   ]
  },
  {
   "cell_type": "code",
   "execution_count": null,
   "metadata": {},
   "outputs": [],
   "source": [
    "movie_data[movie_data['Revenue (Millions)']<400]['Revenue (Millions)'].plot.hist()"
   ]
  },
  {
   "cell_type": "code",
   "execution_count": null,
   "metadata": {},
   "outputs": [],
   "source": [
    "movie_data.columns"
   ]
  },
  {
   "cell_type": "code",
   "execution_count": null,
   "metadata": {},
   "outputs": [],
   "source": [
    "movie_data.rename(columns={'Revenue (Millions)': 'RevenueInM'}, inplace=True)\n",
    "movie_data.RevenueInM.fillna(movie_data.RevenueInM.median(), inplace=True)"
   ]
  },
  {
   "cell_type": "markdown",
   "metadata": {},
   "source": [
    "### 1) What is the relation between Year and Movies Produced/Registered?"
   ]
  },
  {
   "cell_type": "code",
   "execution_count": null,
   "metadata": {},
   "outputs": [],
   "source": [
    "movie_data['Year'].value_counts().sort_index().plot.bar()\n",
    "plt.title('Count of movies produced year wise')"
   ]
  },
  {
   "cell_type": "markdown",
   "metadata": {},
   "source": [
    "#### The number of movies produced/registered has increased almost 5 folds from 2006 to 2016"
   ]
  },
  {
   "cell_type": "markdown",
   "metadata": {},
   "source": [
    "### 2) Is there any relationship between duration and rating?"
   ]
  },
  {
   "cell_type": "code",
   "execution_count": null,
   "metadata": {},
   "outputs": [],
   "source": [
    "movie_data[['Runtime (Minutes)', 'Rating']].plot.scatter(x='Runtime (Minutes)', y='Rating')\n",
    "plt.title('Relation between Rating and Duration of a movie using Scatter Plot')"
   ]
  },
  {
   "cell_type": "code",
   "execution_count": null,
   "metadata": {},
   "outputs": [],
   "source": [
    "#As the data has too many overlapping points, choose to take HeatMap for better insight\n",
    "\n",
    "movie_data.plot.hexbin(x='Runtime (Minutes)', y='Rating', gridsize=20)\n",
    "plt.title('Relation between Rating and Duration of a movie using HexPlot')"
   ]
  },
  {
   "cell_type": "markdown",
   "metadata": {},
   "source": [
    "#### Most average(6-7) rated movies are have a movie duration of 90-130 mins. The above graph doesnot give much detail insight on duration impacting the rating of a movie but we can conclude most movie duration range between 90-135 minutes."
   ]
  },
  {
   "cell_type": "code",
   "execution_count": null,
   "metadata": {},
   "outputs": [],
   "source": [
    "#Function for categorizing numerals to categorical class\n",
    "def categorizeRating(x):\n",
    "    if x >= 8.5:\n",
    "        return \"Excellent\"\n",
    "    elif x >=7  and x <8.5:\n",
    "        return \"Good\"\n",
    "    elif x >=6.0  and x <7:\n",
    "        return \"Average\"\n",
    "    elif x >=4.5  and x <6.0:\n",
    "        return \"Poor\"\n",
    "    else:\n",
    "        return \"Worst\""
   ]
  },
  {
   "cell_type": "code",
   "execution_count": null,
   "metadata": {},
   "outputs": [],
   "source": [
    "movie_data['MetacriticRating']= (movie_data['Metascore']/10)            #Standardise the metascore data with Rating"
   ]
  },
  {
   "cell_type": "code",
   "execution_count": null,
   "metadata": {},
   "outputs": [],
   "source": [
    "movie_data['RatingClass'] = movie_data['Rating'].apply(categorizeRating)         #Classifying Ratings into categories\n",
    "movie_data['MetaScoreClass'] = movie_data['MetacriticRating'].apply(categorizeRating)         #Classifying MetacriticRating into categories"
   ]
  },
  {
   "cell_type": "code",
   "execution_count": null,
   "metadata": {},
   "outputs": [],
   "source": [
    "as_fig = sns.FacetGrid(movie_data,hue='RatingClass',aspect=5)\n",
    "as_fig.map(sns.kdeplot,'Runtime (Minutes)',shade=True)\n",
    "oldest = movie_data['Runtime (Minutes)'].max()\n",
    "as_fig.set(xlim=(0,oldest))\n",
    "as_fig.add_legend()\n",
    "plt.title('Rating distribution againt duration')"
   ]
  },
  {
   "cell_type": "markdown",
   "metadata": {},
   "source": [
    "#### The excellent rated movies has high variance with duration(graph is platykurtic) while worst performing movies mostly ranged between 85-105 mins."
   ]
  },
  {
   "cell_type": "code",
   "execution_count": null,
   "metadata": {},
   "outputs": [],
   "source": [
    "as_fig = sns.FacetGrid(movie_data,hue='MetaScoreClass',aspect=5)\n",
    "as_fig.map(sns.kdeplot,'Runtime (Minutes)',shade=True)\n",
    "oldest = movie_data['Runtime (Minutes)'].max()\n",
    "as_fig.set(xlim=(0,oldest))\n",
    "as_fig.add_legend()\n",
    "plt.title('MetaScoreClass distribution againt duration')"
   ]
  },
  {
   "cell_type": "markdown",
   "metadata": {},
   "source": [
    "#### The metacritic ratings against duration is almost same for each category ranged between 85-105 mins with the excellent mmovies having slightly greater duration "
   ]
  },
  {
   "cell_type": "markdown",
   "metadata": {},
   "source": [
    "### We cannot much conclude if duration has any role to play with the sucess(Ratings) of the movie"
   ]
  },
  {
   "cell_type": "markdown",
   "metadata": {},
   "source": [
    "<p/>"
   ]
  },
  {
   "cell_type": "code",
   "execution_count": null,
   "metadata": {},
   "outputs": [],
   "source": [
    "sns.boxplot('Year','Runtime (Minutes)',data=movie_data)\n",
    "plt.title(\"Duration and Year wise plot\")"
   ]
  },
  {
   "cell_type": "markdown",
   "metadata": {},
   "source": [
    "### The average duration of movies each year ranges between 100-120 minutes."
   ]
  },
  {
   "cell_type": "markdown",
   "metadata": {},
   "source": [
    "<p/>"
   ]
  },
  {
   "cell_type": "code",
   "execution_count": null,
   "metadata": {},
   "outputs": [],
   "source": [
    "movie_data['RatingClass'] = movie_data['Rating'].apply(categorizeRating)                      #Classifying Ratings into categories"
   ]
  },
  {
   "cell_type": "code",
   "execution_count": null,
   "metadata": {},
   "outputs": [],
   "source": [
    "movie_data['MetaScoreClass'] = movie_data['MetacriticRating'].apply(categorizeRating)         #Classifying Ratings into categories"
   ]
  },
  {
   "cell_type": "code",
   "execution_count": null,
   "metadata": {},
   "outputs": [],
   "source": [
    "movie_data.head()"
   ]
  },
  {
   "cell_type": "markdown",
   "metadata": {},
   "source": [
    "### 3) Which Year produced most hit movies (liked by audience)"
   ]
  },
  {
   "cell_type": "code",
   "execution_count": null,
   "metadata": {},
   "outputs": [],
   "source": [
    "good_movies = movie_data[(movie_data['RatingClass']=='Good') | (movie_data['RatingClass']=='Excellent'  )]    # Filter out the high rated movies"
   ]
  },
  {
   "cell_type": "code",
   "execution_count": null,
   "metadata": {},
   "outputs": [],
   "source": [
    "excellent_movies = movie_data[(movie_data['RatingClass']=='Excellent'  )] "
   ]
  },
  {
   "cell_type": "code",
   "execution_count": null,
   "metadata": {},
   "outputs": [],
   "source": [
    "sns.countplot('Year',data=good_movies)\n",
    "plt.title('Count plot for year wise of movies produced')"
   ]
  },
  {
   "cell_type": "markdown",
   "metadata": {},
   "source": [
    "As per graph, 2016 produced most number of hit movies. However, the data is not standadized as the no of movie produced each year varies and cannot be concluded"
   ]
  },
  {
   "cell_type": "code",
   "execution_count": null,
   "metadata": {},
   "outputs": [],
   "source": [
    "movie_data.groupby(['Year'])['Year'].count()"
   ]
  },
  {
   "cell_type": "code",
   "execution_count": null,
   "metadata": {},
   "outputs": [],
   "source": [
    "((good_movies.groupby(['Year'])['Year'].count()/movie_data.groupby(['Year'])['Year'].count())*100).plot.bar()\n",
    "plt.title(\"Plot shows the hit(rating above 7) produced each year\")"
   ]
  },
  {
   "cell_type": "markdown",
   "metadata": {},
   "source": [
    "#### 1) Year 2007 produced most of the hit movies while 2006 produced maximum number of high rated movies\n",
    "#### 2) Although 2016 produced a highest quantity of movies, quality wise it scored the lowest."
   ]
  },
  {
   "cell_type": "code",
   "execution_count": null,
   "metadata": {},
   "outputs": [],
   "source": [
    "((excellent_movies.groupby(['Year'])['Year'].count()/movie_data.groupby(['Year'])['Year'].count())*100).plot.bar()\n",
    "plt.title(\"Superhit movies(rating above 8.5) produced each year\")"
   ]
  },
  {
   "cell_type": "code",
   "execution_count": null,
   "metadata": {},
   "outputs": [],
   "source": [
    "f,ax = plt.subplots(1,2,figsize=(15,7))\n",
    "\n",
    "((good_movies.groupby(['Year'])['Year'].count()/movie_data.groupby(['Year'])['Year'].count())*100).plot.pie(autopct='%1.1f%%', ax=ax[0])\n",
    "((excellent_movies.groupby(['Year'])['Year'].count()/movie_data.groupby(['Year'])['Year'].count())*100).plot.pie(autopct='%1.1f%%', ax=ax[1])\n",
    "ax[0].set_title('Year wise contribution in hit movies')\n",
    "ax[1].set_title('Year wise contribution of only super hit movies')"
   ]
  },
  {
   "cell_type": "markdown",
   "metadata": {},
   "source": [
    "#### <b>2007</b>, produced large number of hit movies, followed by <b>2006, 2009</b>\n",
    "If we consider only the super hits <b>2006,  was the golden year in the film industry</b> and alone constituted <b>37.5</b> share of excellent rated movies<br>\n",
    "2009, 2013, 2015 had no superhit movies"
   ]
  },
  {
   "cell_type": "markdown",
   "metadata": {},
   "source": [
    "<p>"
   ]
  },
  {
   "cell_type": "markdown",
   "metadata": {},
   "source": [
    "### 4) Which Year generated maximum revenue?\n"
   ]
  },
  {
   "cell_type": "code",
   "execution_count": null,
   "metadata": {},
   "outputs": [],
   "source": [
    "movie_data.groupby(\"Year\").RevenueInM.sum().reset_index()"
   ]
  },
  {
   "cell_type": "code",
   "execution_count": null,
   "metadata": {},
   "outputs": [],
   "source": [
    "movie_data.groupby(\"Year\").RevenueInM.sum()/movie_data.groupby(['Year'])['Year'].count()"
   ]
  },
  {
   "cell_type": "code",
   "execution_count": null,
   "metadata": {},
   "outputs": [],
   "source": [
    "sns.barplot(x=\"Year\", y=\"RevenueInM\", data=movie_data, palette=\"summer\")\n",
    "plt.title(\"Year wise Revenue generated\")"
   ]
  },
  {
   "cell_type": "markdown",
   "metadata": {},
   "source": [
    " 1) Year 2016 has generated a total revenue of <b>15626.270M</b><p>\n",
    " 2) However considering the number of released per year, <b>2009</b> and <b>2012</b> has the highest revenue while 2016 had least revenue in comparision</p> \n",
    " 3) In 2016, as the number of hit and superhit movies released is the lowest. It has directly impacted the revenue."
   ]
  },
  {
   "cell_type": "code",
   "execution_count": null,
   "metadata": {},
   "outputs": [],
   "source": [
    "movie_data.corr()"
   ]
  },
  {
   "cell_type": "markdown",
   "metadata": {},
   "source": [
    "<p>"
   ]
  },
  {
   "cell_type": "markdown",
   "metadata": {},
   "source": [
    "### 5) What is the relationship between Votes and Year?"
   ]
  },
  {
   "cell_type": "code",
   "execution_count": null,
   "metadata": {},
   "outputs": [],
   "source": [
    "sns.barplot(x=\"Year\", y=\"Votes\", data=movie_data, palette=\"Set3\")\n",
    "plt.title(\"Relationship between Votes and Year\")"
   ]
  },
  {
   "cell_type": "markdown",
   "metadata": {},
   "source": [
    "##### 1) From the plot, 2012 has the highest number of votes.\n",
    "##### 2) After 2012, the number of votes have been declining. \n",
    "#### Could it be that the other entertainment sources(Netflix/Amazon Originals, Youtube webseries/channels etc) have gained more popularty and have better content in recent years. Therefore, people focus is distributed leading to  low votes and revenue\n"
   ]
  },
  {
   "cell_type": "code",
   "execution_count": null,
   "metadata": {},
   "outputs": [],
   "source": [
    "movie_data.groupby(\"Year\").Votes.sum()/movie_data.groupby(['Year'])['Year'].count()"
   ]
  },
  {
   "cell_type": "code",
   "execution_count": null,
   "metadata": {},
   "outputs": [],
   "source": [
    "### How UserRating, Critic Rating impact the votes?"
   ]
  },
  {
   "cell_type": "code",
   "execution_count": null,
   "metadata": {},
   "outputs": [],
   "source": [
    "fig, ax =plt.subplots(1,2, figsize=(10,5))\n",
    "a=sns.barplot(x=\"MetaScoreClass\", y=\"Votes\", data=movie_data, palette=\"pastel\",  ax=ax[0], order=[\"Worst\", \"Poor\",\"Average\",\"Good\", \"Excellent\"])\n",
    "b=sns.barplot(x=\"RatingClass\", y=\"Votes\", data=movie_data, palette=\"pastel\",  ax=ax[1], order=[\"Worst\", \"Poor\",\"Average\",\"Good\", \"Excellent\"])\n",
    "a.title.set_text('Votes and Rating Classification')\n",
    "b.title.set_text('Votes and Metacritic Classification')\n",
    "fig.show()\n"
   ]
  },
  {
   "cell_type": "markdown",
   "metadata": {},
   "source": [
    "#### The high rated movies both critically acclaimed and user ratings states that <b>More the votes, merrier the ratings<b/>"
   ]
  },
  {
   "cell_type": "markdown",
   "metadata": {},
   "source": [
    "<p/>"
   ]
  },
  {
   "cell_type": "markdown",
   "metadata": {},
   "source": [
    "## 6) Which genre of movies are the most commonly produced?"
   ]
  },
  {
   "cell_type": "markdown",
   "metadata": {},
   "source": [
    "##### Number of movies produced in each genre"
   ]
  },
  {
   "cell_type": "code",
   "execution_count": null,
   "metadata": {},
   "outputs": [],
   "source": [
    "#movie_data.groupby(\"PrimeGenre\").PrimeGenre.count()\n",
    "movies1 = movie_data.assign(PrimeGenre1=movie_data['Genre'].str.split(',').str[0])\n",
    "movies2 = movie_data.assign(PrimeGenre1=movie_data['Genre'].str.split(',').str[1])\n",
    "movies3 = movie_data.assign(PrimeGenre1=movie_data['Genre'].str.split(',').str[2])\n",
    "\n",
    "#remove leading white spaces\n",
    "movies2['PrimeGenre1']=movies2['PrimeGenre1'].str.lstrip()\n",
    "movies3['PrimeGenre1']=movies3['PrimeGenre1'].str.lstrip()\n",
    "\n",
    "movies=pd.concat([movies1,movies2,movies3], axis=0)\n",
    "movies.groupby(\"PrimeGenre1\").PrimeGenre1.count().sort_values()"
   ]
  },
  {
   "cell_type": "code",
   "execution_count": null,
   "metadata": {},
   "outputs": [],
   "source": [
    "#del movies"
   ]
  },
  {
   "cell_type": "code",
   "execution_count": null,
   "metadata": {},
   "outputs": [],
   "source": [
    "fig, ax =plt.subplots( figsize=(20,7))\n",
    "#sns.countplot('PrimeGenre',data=movie_data, palette=\"GnBu_d\", order=movie_data['PrimeGenre'].value_counts().index)\n",
    "sns.countplot('PrimeGenre1',data=movies, palette=\"GnBu_d\", order=movies['PrimeGenre1'].value_counts().index)\n",
    "plt.title(\"Movies produced in each genre\")"
   ]
  },
  {
   "cell_type": "markdown",
   "metadata": {},
   "source": [
    "##### 1) <b>Drama</b> Genre is the clear winner with total of <b>513</b> movies followed by Action with 303 categoried under it </br> 2) Western and Musical genre were <b>least</b> produced.\n",
    "The dominance of drama as a genre is perhaps not surprising when we consider the following:\n",
    "* Drama is the cheapest genre to produce as movies don’t necessarily require special sets, costumes, locations, props, special/visual effects, etc.\n",
    "* Drama has the broadest definition of all genres – everything that happens anywhere ever is a drama. Conversely, other genres have a higher bar for classification, such as the need for high-octane events for a movie to be classed as Action, scary events to be Horror, funny elements to be a Comedy, etc."
   ]
  },
  {
   "cell_type": "markdown",
   "metadata": {},
   "source": [
    "<p>\n",
    "    <p>"
   ]
  },
  {
   "cell_type": "markdown",
   "metadata": {},
   "source": [
    "### 7) Which genre movies received highest positive reviews?"
   ]
  },
  {
   "cell_type": "code",
   "execution_count": null,
   "metadata": {},
   "outputs": [],
   "source": [
    "#df.nlargest(10, ['Weight']) \n",
    "(movies.groupby(\"PrimeGenre1\").Metascore.sum()).sort_values()\n"
   ]
  },
  {
   "cell_type": "code",
   "execution_count": null,
   "metadata": {},
   "outputs": [],
   "source": [
    "fig, ax =plt.subplots( figsize=(20,5))\n",
    "#genRating=((movies.groupby(\"PrimeGenre1\").Metascore.sum()).sort_values(ascending=False)).plot.bar()\n",
    "genRating=sns.countplot(x=\"PrimeGenre1\", data=movies, palette=\"ch:.25\",order = movies['PrimeGenre1'].value_counts().index)\n",
    "for item in genRating.get_xticklabels():\n",
    "    item.set_rotation(30)\n",
    "plt.title('Count plot for Ratings received to each Genre')"
   ]
  },
  {
   "cell_type": "markdown",
   "metadata": {},
   "source": [
    "#### Drama,Action, Comedy, Adventure are the with top genres with highest ratings."
   ]
  },
  {
   "cell_type": "markdown",
   "metadata": {},
   "source": [
    "<p>"
   ]
  },
  {
   "cell_type": "markdown",
   "metadata": {},
   "source": [
    "### 8) Which genre generated highest revenue?"
   ]
  },
  {
   "cell_type": "code",
   "execution_count": null,
   "metadata": {},
   "outputs": [],
   "source": [
    "movies.groupby(\"PrimeGenre1\").RevenueInM.sum().sort_values().plot.barh(color=(0.0, 0.5, 0.0, 0.8))\n",
    "plt.xlabel('Genre', fontsize=5)\n",
    "plt.ylabel('Revenue', fontsize=5)\n",
    "plt.title('Market Share for Each Genre 2006-2016')\n",
    "plt.show()"
   ]
  },
  {
   "cell_type": "markdown",
   "metadata": {},
   "source": [
    "#### Adventure, Action,Drama & Comedy were the genre generating highest revenues."
   ]
  },
  {
   "cell_type": "markdown",
   "metadata": {},
   "source": [
    "<p>"
   ]
  },
  {
   "cell_type": "markdown",
   "metadata": {},
   "source": [
    "### 9) How director plays a role in revenues and votes?"
   ]
  },
  {
   "cell_type": "markdown",
   "metadata": {},
   "source": [
    "As there is a high cardinality in the director column, we are considering the directors who have directed atleast 4 movies "
   ]
  },
  {
   "cell_type": "markdown",
   "metadata": {},
   "source": [
    "Capture top directors"
   ]
  },
  {
   "cell_type": "code",
   "execution_count": null,
   "metadata": {},
   "outputs": [],
   "source": [
    "#Let us filter some of the directors who have produced hit movies and have done atleast 4 Movies \n",
    "good_dir=good_movies.groupby(\"Director\").filter(lambda x: len(x) > 3)\n",
    "#good_dir.head()"
   ]
  },
  {
   "cell_type": "code",
   "execution_count": null,
   "metadata": {},
   "outputs": [],
   "source": [
    "good_dir.groupby(['Director'])['Director'].count()"
   ]
  },
  {
   "cell_type": "code",
   "execution_count": null,
   "metadata": {},
   "outputs": [],
   "source": [
    "fig, ax =plt.subplots(1,2, figsize=(20,5))\n",
    "sDV=sns.barplot(x=\"Director\", y=\"Rating\", data=good_dir.iloc[0:10,:], palette=\"summer\",  ax=ax[0])\n",
    "sDR=sns.barplot(x=\"Director\", y=\"RevenueInM\", data=good_dir.iloc[0:10,:], palette=\"Blues\",  ax=ax[1])\n",
    "sDV.title.set_text('Director and Votes')\n",
    "sDR.title.set_text('Director and Revenue')\n",
    "for item in sDV.get_xticklabels():\n",
    "    item.set_rotation(90)\n",
    "for item in sDR.get_xticklabels():\n",
    "    item.set_rotation(90)\n",
    "fig.show()"
   ]
  },
  {
   "cell_type": "markdown",
   "metadata": {},
   "source": [
    "#### Data suggests that Nolan Movies are the highest voted while J.J Abrams movies get more revenues"
   ]
  },
  {
   "cell_type": "code",
   "execution_count": null,
   "metadata": {},
   "outputs": [],
   "source": [
    "result=good_dir.groupby([\"Director\"])['Rating'].aggregate(np.median).reset_index().sort_values('Rating', ascending=False)\n",
    "result.iloc[0:4,:]  \n",
    "#result"
   ]
  },
  {
   "cell_type": "code",
   "execution_count": null,
   "metadata": {},
   "outputs": [],
   "source": [
    "#del good_dir"
   ]
  },
  {
   "cell_type": "code",
   "execution_count": null,
   "metadata": {},
   "outputs": [],
   "source": [
    "sDR=sns.barplot(x=\"Director\", y=\"Rating\", data=result.iloc[0:10,:] , color=\"Orange\")\n",
    "plt.title(\"Top 10 Directors based on highest average ratings\")\n",
    "for item in sDR.get_xticklabels():\n",
    "    item.set_rotation(90)"
   ]
  },
  {
   "cell_type": "markdown",
   "metadata": {},
   "source": [
    "Christopher Nolan tops the score board with highest number top rated movies"
   ]
  },
  {
   "cell_type": "code",
   "execution_count": null,
   "metadata": {},
   "outputs": [],
   "source": [
    "result=good_dir.groupby([\"Director\"])['Metascore'].aggregate(np.mean).reset_index().sort_values('Metascore', ascending=False)\n",
    "result.iloc[0:4,:] "
   ]
  },
  {
   "cell_type": "code",
   "execution_count": null,
   "metadata": {},
   "outputs": [],
   "source": [
    "sDR=sns.barplot(x=\"Director\", y=\"Metascore\", data=result.iloc[0:10,:] , color=\"Yellow\")\n",
    "plt.title(\"Top Directors with movies of highest positive reviews\")\n",
    "for item in sDR.get_xticklabels():\n",
    "    item.set_rotation(90)"
   ]
  },
  {
   "cell_type": "code",
   "execution_count": null,
   "metadata": {},
   "outputs": [],
   "source": [
    "result=good_dir.groupby([\"Director\"])['RevenueInM'].sum().reset_index().sort_values('RevenueInM', ascending=False)\n",
    "result.iloc[0:4,:]  "
   ]
  },
  {
   "cell_type": "code",
   "execution_count": null,
   "metadata": {},
   "outputs": [],
   "source": [
    "sDR=sns.barplot(x=\"Director\", y=\"RevenueInM\", data=result.iloc[0:10,:] , color=\"Blue\")\n",
    "plt.title(\"Top Directors with movies of highest revenues\")\n",
    "for item in sDR.get_xticklabels():\n",
    "    item.set_rotation(90)"
   ]
  },
  {
   "cell_type": "markdown",
   "metadata": {},
   "source": [
    "<p/>"
   ]
  },
  {
   "cell_type": "code",
   "execution_count": null,
   "metadata": {},
   "outputs": [],
   "source": [
    "fig, ax =plt.subplots(1,2, figsize=(20,5))\n",
    "sDV=sns.barplot(x=\"Director\", y=\"Votes\", data=good_dir, palette=\"summer\",  ax=ax[0])\n",
    "sDR=sns.barplot(x=\"Director\", y=\"RevenueInM\", data=good_dir, palette=\"Blues\",  ax=ax[1])\n",
    "sDV.title.set_text('Director and Votes')\n",
    "sDR.title.set_text('Director and Revenue')\n",
    "for item in sDV.get_xticklabels():\n",
    "    item.set_rotation(90)\n",
    "for item in sDR.get_xticklabels():\n",
    "    item.set_rotation(90)\n",
    "fig.show()"
   ]
  },
  {
   "cell_type": "markdown",
   "metadata": {},
   "source": [
    "### 10) Who are the top performing actors?"
   ]
  },
  {
   "cell_type": "code",
   "execution_count": null,
   "metadata": {},
   "outputs": [],
   "source": [
    "#dist1= good_movies['Actors'].str.split(',').str[0]\n",
    "dist1 = good_movies.assign(Actor1=good_movies['Actors'].str.split(',').str[0])\n",
    "dist2 = good_movies.assign(Actor1=good_movies['Actors'].str.split(',').str[1])\n",
    "dist3 = good_movies.assign(Actor1=good_movies['Actors'].str.split(',').str[2])\n",
    "dist4 = good_movies.assign(Actor1=good_movies['Actors'].str.split(',').str[3])\n",
    "dist5 = good_movies.assign(Actor1=good_movies['Actors'].str.split(',').str[4])\n"
   ]
  },
  {
   "cell_type": "code",
   "execution_count": null,
   "metadata": {},
   "outputs": [],
   "source": [
    "dist1.count()"
   ]
  },
  {
   "cell_type": "code",
   "execution_count": null,
   "metadata": {},
   "outputs": [],
   "source": [
    "#remove leading white spaces\n",
    "dist2['Actor1']=dist2['Actor1'].str.lstrip()\n",
    "dist3['Actor1']=dist3['Actor1'].str.lstrip()"
   ]
  },
  {
   "cell_type": "code",
   "execution_count": null,
   "metadata": {},
   "outputs": [],
   "source": [
    "#concat all 3 datasets\n",
    "actorPreProcess=pd.concat([dist1, dist2,dist3 ], axis=0)   "
   ]
  },
  {
   "cell_type": "code",
   "execution_count": null,
   "metadata": {},
   "outputs": [],
   "source": [
    "topActors_MovieData=actorPreProcess.groupby('Actor1').filter(lambda x: len(x) > 4)         #filter dataset wth actors having done more  than 3 movies"
   ]
  },
  {
   "cell_type": "code",
   "execution_count": null,
   "metadata": {},
   "outputs": [],
   "source": [
    "topactors=topActors_MovieData.groupby('Actor1')['Actor1'].count().sort_values(ascending=False)\n",
    "topactors[topactors>6]"
   ]
  },
  {
   "cell_type": "code",
   "execution_count": null,
   "metadata": {},
   "outputs": [],
   "source": [
    "fig, ax =plt.subplots( figsize=(20,5))\n",
    "actors=sns.countplot('Actor1',data=topActors_MovieData, order = topActors_MovieData['Actor1'].value_counts().index)\n",
    "for item in actors.get_xticklabels():\n",
    "    item.set_rotation(90)\n",
    "plt.title(\"Top rated actors as per hit movies\")"
   ]
  },
  {
   "cell_type": "markdown",
   "metadata": {},
   "source": [
    "#### List of top actors with maximum hit movies<br/>\n",
    "Robert Downey Jr.       <b>12</b> hit movies <br/>\n",
    "Tom Hardy & Leonardo DiCaprio <b>10</b> hit movies <br/>\n",
    "Brad Pitt               <b>9</b> hit movies <br/>\n",
    "Ryan Gosling, Jake Gyllenhaal, Michael Fassbender, Amy Adams, Christian Bale   <b>8</b> hit movies <br/>\n",
    "<p>\n",
    "    <b>Amy Adams, Scarlet Johansen & Jenifer lawerence</b> were some of the top female actress having starred in most hit movies"
   ]
  },
  {
   "cell_type": "code",
   "execution_count": null,
   "metadata": {},
   "outputs": [],
   "source": [
    "result=topActors_MovieData.groupby([\"Actor1\"])['RevenueInM'].aggregate(np.median).reset_index().sort_values('RevenueInM', ascending=False)\n"
   ]
  },
  {
   "cell_type": "code",
   "execution_count": null,
   "metadata": {},
   "outputs": [],
   "source": [
    "fig, ax =plt.subplots( figsize=(20,5))\n",
    "rev=sns.barplot(x=\"Actor1\", y=\"RevenueInM\", data=result, palette=\"pastel\",order = result[\"Actor1\"])\n",
    "for item in rev.get_xticklabels():\n",
    "    item.set_rotation(90)\n",
    "plt.title(\"Top rated actors as per hit movies\")"
   ]
  },
  {
   "cell_type": "markdown",
   "metadata": {},
   "source": [
    "##### Top 5 Actors with films with highest revenue\n",
    "Chris Evans\t333.915<br>\n",
    "Daniel Radcliffe\t294.980<br>\n",
    "Emma Watson\t293.490<br>\n",
    "Robert Downey Jr.\t260.540<br>\n",
    "Chris Pratt\t257.760<br>\n",
    "Martin Freeman\t255.110<br>"
   ]
  },
  {
   "cell_type": "code",
   "execution_count": null,
   "metadata": {},
   "outputs": [],
   "source": [
    "m1=movie_data[movie_data['Actors'].str.contains('Chris Evans')]\n",
    "m1.RevenueInM.sum()"
   ]
  },
  {
   "cell_type": "code",
   "execution_count": null,
   "metadata": {},
   "outputs": [],
   "source": []
  }
 ],
 "metadata": {
  "kernelspec": {
   "display_name": "Python 3",
   "language": "python",
   "name": "python3"
  },
  "language_info": {
   "codemirror_mode": {
    "name": "ipython",
    "version": 3
   },
   "file_extension": ".py",
   "mimetype": "text/x-python",
   "name": "python",
   "nbconvert_exporter": "python",
   "pygments_lexer": "ipython3",
   "version": "3.7.1"
  }
 },
 "nbformat": 4,
 "nbformat_minor": 2
}
